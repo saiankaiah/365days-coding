{
  "nbformat": 4,
  "nbformat_minor": 0,
  "metadata": {
    "colab": {
      "name": "Untitled3.ipynb",
      "provenance": [],
      "collapsed_sections": [],
      "authorship_tag": "ABX9TyOYUKHIKDLtKkmHGoNupwcY",
      "include_colab_link": true
    },
    "kernelspec": {
      "name": "python3",
      "display_name": "Python 3"
    },
    "language_info": {
      "name": "python"
    }
  },
  "cells": [
    {
      "cell_type": "markdown",
      "metadata": {
        "id": "view-in-github",
        "colab_type": "text"
      },
      "source": [
        "<a href=\"https://colab.research.google.com/github/saiankaiah/365days-coding/blob/main/dsa_mathematics.ipynb\" target=\"_parent\"><img src=\"https://colab.research.google.com/assets/colab-badge.svg\" alt=\"Open In Colab\"/></a>"
      ]
    },
    {
      "cell_type": "code",
      "metadata": {
        "colab": {
          "base_uri": "https://localhost:8080/"
        },
        "id": "GFhvPtCzR0Lx",
        "outputId": "1b5be136-d7af-4c5c-93d9-8f54369a305f"
      },
      "source": [
        "#count number of digits(iterative solution)\n",
        "def countdig(n):\n",
        "  count = 0\n",
        "  while n!= 0:\n",
        "    n = n//10\n",
        "    count += 1\n",
        "  return count\n",
        "\n",
        "countdig(7799328373)"
      ],
      "execution_count": 9,
      "outputs": [
        {
          "output_type": "execute_result",
          "data": {
            "text/plain": [
              "10"
            ]
          },
          "metadata": {
            "tags": []
          },
          "execution_count": 9
        }
      ]
    },
    {
      "cell_type": "code",
      "metadata": {
        "colab": {
          "base_uri": "https://localhost:8080/"
        },
        "id": "au_PKb9DSbB-",
        "outputId": "7af7fd0c-077e-4c99-f85a-f373a5beec63"
      },
      "source": [
        "#count number of digits(recursive solution)\n",
        "def countdig_rec(n):\n",
        "  if n == 0:\n",
        "    return 0\n",
        "  return 1 + countdig_rec(n//10)\n",
        "\n",
        "countdig_rec(7799328373)"
      ],
      "execution_count": null,
      "outputs": [
        {
          "output_type": "execute_result",
          "data": {
            "text/plain": [
              "10"
            ]
          },
          "metadata": {
            "tags": []
          },
          "execution_count": 11
        }
      ]
    },
    {
      "cell_type": "code",
      "metadata": {
        "colab": {
          "base_uri": "https://localhost:8080/"
        },
        "id": "RPKU_d3FTSWX",
        "outputId": "8e42afb3-9fea-4ba3-f1f0-95a490932ae0"
      },
      "source": [
        "#count number of digits(logarthimic solution)\n",
        "from math import log, trunc, sqrt\n",
        "def countdig_log(n):\n",
        "  return trunc(log(n,10) + 1)\n",
        "\n",
        "countdig_log(7799328373)"
      ],
      "execution_count": 10,
      "outputs": [
        {
          "output_type": "execute_result",
          "data": {
            "text/plain": [
              "10"
            ]
          },
          "metadata": {
            "tags": []
          },
          "execution_count": 10
        }
      ]
    },
    {
      "cell_type": "code",
      "metadata": {
        "colab": {
          "base_uri": "https://localhost:8080/"
        },
        "id": "eMUTfquucZRj",
        "outputId": "36ea1713-69a4-451c-ceac-96d007024540"
      },
      "source": [
        "#check whether given number is palindrome or not(time complexity is theta(n))\n",
        "def check_palin(n):\n",
        "  initial = n\n",
        "  reverse = 0\n",
        "  while n != 0:\n",
        "    last = n % 10\n",
        "    reverse = (reverse * 10) + last\n",
        "    n = n//10\n",
        "  return reverse == initial\n",
        "\n",
        "check_palin(363)\n"
      ],
      "execution_count": null,
      "outputs": [
        {
          "output_type": "execute_result",
          "data": {
            "text/plain": [
              "True"
            ]
          },
          "metadata": {
            "tags": []
          },
          "execution_count": 40
        }
      ]
    },
    {
      "cell_type": "code",
      "metadata": {
        "colab": {
          "base_uri": "https://localhost:8080/"
        },
        "id": "gSMk0MYUe0dO",
        "outputId": "cf9d7cd9-fa30-4499-d774-01f4f7a90560"
      },
      "source": [
        "# factorial of given number with for loop (time complexity is O(n) and auxilary space is O(1))\n",
        "def factorial(n):\n",
        "  result = 1\n",
        "  for each in range(1,n+1):\n",
        "    result = result * each\n",
        "  return result\n",
        "\n",
        "factorial(5)"
      ],
      "execution_count": 7,
      "outputs": [
        {
          "output_type": "execute_result",
          "data": {
            "text/plain": [
              "120"
            ]
          },
          "metadata": {
            "tags": []
          },
          "execution_count": 7
        }
      ]
    },
    {
      "cell_type": "code",
      "metadata": {
        "colab": {
          "base_uri": "https://localhost:8080/"
        },
        "id": "SDWX8MD5XBk9",
        "outputId": "1ad7d47b-b97d-47dd-b3d2-169284c20b0d"
      },
      "source": [
        "# factorial of given number with recursive solution (time complexity is O(n) and auxilary space is O(n))\n",
        "def factorial_rec(n):\n",
        "  if n == 0:\n",
        "    return 1\n",
        "  return n * factorial_rec(n-1)\n",
        "\n",
        "factorial_rec(5)"
      ],
      "execution_count": null,
      "outputs": [
        {
          "output_type": "execute_result",
          "data": {
            "text/plain": [
              "120"
            ]
          },
          "metadata": {
            "tags": []
          },
          "execution_count": 3
        }
      ]
    },
    {
      "cell_type": "code",
      "metadata": {
        "colab": {
          "base_uri": "https://localhost:8080/"
        },
        "id": "WGwo9M3iYCBh",
        "outputId": "77e3e9e7-3f9d-48dc-e210-79e879071ab2"
      },
      "source": [
        "# number of trail zeros in factorial of given number (time complexity is O(n))\n",
        "def factorial_trailzeros(n):\n",
        "  result = 1\n",
        "  trail_zeros = 0\n",
        "  for each in range(1,n+1):\n",
        "    result = result * each\n",
        "  while result % 10 == 0:\n",
        "    result = result //10\n",
        "    trail_zeros += 1\n",
        "  return trail_zeros\n",
        "\n",
        "factorial_trailzeros(100)\n",
        "\n"
      ],
      "execution_count": null,
      "outputs": [
        {
          "output_type": "execute_result",
          "data": {
            "text/plain": [
              "24"
            ]
          },
          "metadata": {
            "tags": []
          },
          "execution_count": 12
        }
      ]
    },
    {
      "cell_type": "code",
      "metadata": {
        "colab": {
          "base_uri": "https://localhost:8080/"
        },
        "id": "jfFC3qaSbM6k",
        "outputId": "fbfde6a9-79e4-4b27-d60d-f128f9072821"
      },
      "source": [
        "# number of trail zeros in factorial of given number (time complexity is O(logn))\n",
        "def trailzeros_eff(n):\n",
        "  result = 0\n",
        "  i = 5\n",
        "  while n/i > 1:\n",
        "    result = result + n//i\n",
        "    i = i * 5\n",
        "  return result\n",
        "\n",
        "\n",
        "print(trailzeros_eff(251))"
      ],
      "execution_count": null,
      "outputs": [
        {
          "output_type": "stream",
          "text": [
            "62\n"
          ],
          "name": "stdout"
        }
      ]
    },
    {
      "cell_type": "markdown",
      "metadata": {
        "id": "23eGEjm5xrNZ"
      },
      "source": [
        "Find the GCD of 270 and 192\n",
        "A=270, B=192\n",
        "A ≠0\n",
        "B ≠0\n",
        "Use long division to find that 270/192 = 1 with a remainder of 78. We can write this as: 270 = 192 * 1 +78\n",
        "Find GCD(192,78), since GCD(270,192)=GCD(192,78)\n",
        "A=192, B=78\n",
        "A ≠0\n",
        "B ≠0\n",
        "Use long division to find that 192/78 = 2 with a remainder of 36. We can write this as:\n",
        "192 = 78 * 2 + 36\n",
        "Find GCD(78,36), since GCD(192,78)=GCD(78,36)\n",
        "A=78, B=36\n",
        "A ≠0\n",
        "B ≠0\n",
        "Use long division to find that 78/36 = 2 with a remainder of 6. We can write this as:\n",
        "78 = 36 * 2 + 6\n",
        "Find GCD(36,6), since GCD(78,36)=GCD(36,6)\n",
        "A=36, B=6\n",
        "A ≠0\n",
        "B ≠0\n",
        "Use long division to find that 36/6 = 6 with a remainder of 0. We can write this as:\n",
        "36 = 6 * 6 + 0\n",
        "Find GCD(6,0), since GCD(36,6)=GCD(6,0)\n",
        "A=6, B=0\n",
        "A ≠0\n",
        "B =0, GCD(6,0)=6\n",
        "So we have shown:\n",
        "GCD(270,192) = GCD(192,78) = GCD(78,36) = GCD(36,6) = GCD(6,0) = 6\n",
        "GCD(270,192) = 6"
      ]
    },
    {
      "cell_type": "code",
      "metadata": {
        "colab": {
          "base_uri": "https://localhost:8080/"
        },
        "id": "11ivmjYyeMqP",
        "outputId": "3b109135-fa44-4445-fa6b-08077dad419d"
      },
      "source": [
        "# Greatest common divisor for 2 given numbers(Naive with little unefficient way)\n",
        "def gcd(a,b):\n",
        "  small = min(a,b)\n",
        "  big = max(a,b)\n",
        "  while big % small != 0:\n",
        "    temp = small\n",
        "    small = big % small\n",
        "    big = temp\n",
        "  return small\n",
        "\n",
        "gcd(3708,1701)"
      ],
      "execution_count": null,
      "outputs": [
        {
          "output_type": "execute_result",
          "data": {
            "text/plain": [
              "9"
            ]
          },
          "metadata": {
            "tags": []
          },
          "execution_count": 10
        }
      ]
    },
    {
      "cell_type": "code",
      "metadata": {
        "id": "FrhppuEPesZ1",
        "colab": {
          "base_uri": "https://localhost:8080/"
        },
        "outputId": "859608db-5375-4aaa-d607-d7af762a09ef"
      },
      "source": [
        "# Greatest common divisor for 2 given numbers(Euclidean Algorithm with recursion efficient way with auxiliary space O(n))\n",
        "def gcd_eff(a,b):\n",
        "  if b == 0:\n",
        "    return a\n",
        "  else:\n",
        "    return gcd_eff(b,a%b)\n",
        "\n",
        "gcd_eff(3708,1701)"
      ],
      "execution_count": null,
      "outputs": [
        {
          "output_type": "execute_result",
          "data": {
            "text/plain": [
              "9"
            ]
          },
          "metadata": {
            "tags": []
          },
          "execution_count": 13
        }
      ]
    },
    {
      "cell_type": "code",
      "metadata": {
        "colab": {
          "base_uri": "https://localhost:8080/"
        },
        "id": "hwfZ3b-NxaC3",
        "outputId": "18d3058a-94e8-4a54-e24b-5cfc01fda387"
      },
      "source": [
        "# LCM of two given numbers\n",
        "def lcm(a,b):\n",
        "  res = max(a,b)\n",
        "  while True:\n",
        "    if res % a == 0 and res % b == 0:\n",
        "      return res\n",
        "    res += 1\n",
        "\n",
        "lcm(10,15)\n",
        "\n"
      ],
      "execution_count": null,
      "outputs": [
        {
          "output_type": "execute_result",
          "data": {
            "text/plain": [
              "30"
            ]
          },
          "metadata": {
            "tags": []
          },
          "execution_count": 18
        }
      ]
    },
    {
      "cell_type": "code",
      "metadata": {
        "colab": {
          "base_uri": "https://localhost:8080/"
        },
        "id": "c79yWT2O0lsG",
        "outputId": "bfa69683-e5ba-4747-9363-2ec8fe2d8605"
      },
      "source": [
        "def lcm_eff(a,b): #a * b = gcd(a,b) * lcm(a,b)\n",
        "   return a*b // gcd_eff(a,b)\n",
        "\n",
        "lcm_eff(10,15)\n"
      ],
      "execution_count": null,
      "outputs": [
        {
          "output_type": "execute_result",
          "data": {
            "text/plain": [
              "30"
            ]
          },
          "metadata": {
            "tags": []
          },
          "execution_count": 17
        }
      ]
    },
    {
      "cell_type": "code",
      "metadata": {
        "colab": {
          "base_uri": "https://localhost:8080/"
        },
        "id": "0oLp2D1c18Jn",
        "outputId": "b748da41-d476-4c65-81d5-a724a6cb538a"
      },
      "source": [
        "#check the given number is prime number or not\n",
        "def check_prime(n):\n",
        "  if n == 1:\n",
        "    return False\n",
        "  if n == 2 or n == 3:\n",
        "    return True\n",
        "  if n % 2 == 0 or n % 3 == 0:\n",
        "    return False\n",
        "  for i in range(5,int(n**(1/2))+1,6):\n",
        "    if n % i == 0 or n % (i+2) == 0:\n",
        "      return False\n",
        "  return True\n",
        "\n",
        "check_prime(49)"
      ],
      "execution_count": null,
      "outputs": [
        {
          "output_type": "execute_result",
          "data": {
            "text/plain": [
              "False"
            ]
          },
          "metadata": {
            "tags": []
          },
          "execution_count": 13
        }
      ]
    },
    {
      "cell_type": "code",
      "metadata": {
        "colab": {
          "base_uri": "https://localhost:8080/"
        },
        "id": "tmb8r8Lt7UrO",
        "outputId": "21ee8fa6-c109-4c47-b083-1d3ac972d42e"
      },
      "source": [
        "# prime factors of a given number\n",
        "def prime_factors(n):\n",
        "  for each in range(2,n):\n",
        "    if check_prime(each):\n",
        "      x = each\n",
        "      while n % x == 0:\n",
        "        print(each)\n",
        "        x = x * each\n",
        "\n",
        "prime_factors(12)"
      ],
      "execution_count": null,
      "outputs": [
        {
          "output_type": "stream",
          "text": [
            "2\n",
            "2\n",
            "3\n"
          ],
          "name": "stdout"
        }
      ]
    },
    {
      "cell_type": "code",
      "metadata": {
        "id": "WkHQ06KXQayc",
        "colab": {
          "base_uri": "https://localhost:8080/"
        },
        "outputId": "b7084c33-6d0b-4f0e-b73d-e5d24bae571f"
      },
      "source": [
        "def prime_factors_eff(n):\n",
        "  if n <= 1:\n",
        "    return\n",
        "  while n % 2 == 0:\n",
        "    print(2)\n",
        "    n = n // 2\n",
        "  while n % 3 == 0:\n",
        "    print(3)\n",
        "    n = n // 3\n",
        "  for each in range(5, int(sqrt(n))+1, 6):\n",
        "    while n % each == 0:\n",
        "      print(each)\n",
        "      n = n // each\n",
        "    while n % (each+2) == 0:\n",
        "      print(each+2)\n",
        "      n = n // each+2\n",
        "  if n > 3:\n",
        "    print(n)\n",
        "\n",
        "\n",
        "prime_factors_eff(450)"
      ],
      "execution_count": null,
      "outputs": [
        {
          "output_type": "stream",
          "text": [
            "2\n",
            "3\n",
            "3\n",
            "5\n",
            "5\n"
          ],
          "name": "stdout"
        }
      ]
    },
    {
      "cell_type": "code",
      "metadata": {
        "colab": {
          "base_uri": "https://localhost:8080/"
        },
        "id": "r041ApHPWOMV",
        "outputId": "6d5356c7-8310-45f9-8592-f8562c98d169"
      },
      "source": [
        "#divisors of a given number naive method\n",
        "def divisors(n):\n",
        "  for each in range(1,n+1):\n",
        "    if n % each == 0:\n",
        "      print(each)\n",
        "\n",
        "divisors(15)"
      ],
      "execution_count": null,
      "outputs": [
        {
          "output_type": "stream",
          "text": [
            "1\n",
            "3\n",
            "5\n",
            "15\n"
          ],
          "name": "stdout"
        }
      ]
    },
    {
      "cell_type": "code",
      "metadata": {
        "colab": {
          "base_uri": "https://localhost:8080/"
        },
        "id": "N7NGkd21PrUa",
        "outputId": "6608d9d4-dc63-4a6d-fc8d-9f214fb36e4d"
      },
      "source": [
        "#divisors of given number with time complexity O(n^1/2) and space complexity O(1)\n",
        "def divisors_eff(n):\n",
        "  for each in range(1,int(n**(1/2))+1):\n",
        "    if n % each == 0:\n",
        "      print(each)\n",
        "  for each in range(int(n**(1/2)),0,-1):\n",
        "    if n % each == 0:\n",
        "      print(n // each)\n",
        "\n",
        "divisors_eff(15)"
      ],
      "execution_count": null,
      "outputs": [
        {
          "output_type": "stream",
          "text": [
            "1\n",
            "3\n",
            "5\n",
            "15\n"
          ],
          "name": "stdout"
        }
      ]
    },
    {
      "cell_type": "code",
      "metadata": {
        "colab": {
          "base_uri": "https://localhost:8080/"
        },
        "id": "1a0wL_1NRSFs",
        "outputId": "665319e1-7006-44c4-9bb7-74e629fdfb2d"
      },
      "source": [
        "#print primenumbers less than or equal to given number with time complexity O(nloglogn) (sieve of eratosthenes)\n",
        "def print_prime(n):\n",
        "  prime = [True for each in range(n+1)]\n",
        "  for each in range(2,n+1):\n",
        "    if prime[each]:\n",
        "      print(each)\n",
        "      for each in range(each*each,n+1,each):\n",
        "        prime[each] = False\n",
        "\n",
        "print_prime(100)"
      ],
      "execution_count": null,
      "outputs": [
        {
          "output_type": "stream",
          "text": [
            "2\n",
            "3\n",
            "5\n",
            "7\n",
            "11\n",
            "13\n",
            "17\n",
            "19\n",
            "23\n",
            "29\n",
            "31\n",
            "37\n",
            "41\n",
            "43\n",
            "47\n",
            "53\n",
            "59\n",
            "61\n",
            "67\n",
            "71\n",
            "73\n",
            "79\n",
            "83\n",
            "89\n",
            "97\n"
          ],
          "name": "stdout"
        }
      ]
    },
    {
      "cell_type": "code",
      "metadata": {
        "id": "6LgrS47Ixosv",
        "colab": {
          "base_uri": "https://localhost:8080/"
        },
        "outputId": "4c70ddc8-b8b7-4641-bdfe-da3103c2dc32"
      },
      "source": [
        "-(-45)"
      ],
      "execution_count": 5,
      "outputs": [
        {
          "output_type": "execute_result",
          "data": {
            "text/plain": [
              "45"
            ]
          },
          "metadata": {
            "tags": []
          },
          "execution_count": 5
        }
      ]
    },
    {
      "cell_type": "code",
      "metadata": {
        "colab": {
          "base_uri": "https://localhost:8080/"
        },
        "id": "EZmLEE6fRzHh",
        "outputId": "824be349-b105-4de5-dbf4-48f347771bdb"
      },
      "source": [
        "#count the digits of the given number's factorial\n",
        "def count_dig_factorial(n):\n",
        "  fact = factorial(n)\n",
        "  return countdig_log(fact)\n",
        "\n",
        "count_dig_factorial(120)\n",
        "  "
      ],
      "execution_count": 12,
      "outputs": [
        {
          "output_type": "execute_result",
          "data": {
            "text/plain": [
              "199"
            ]
          },
          "metadata": {
            "tags": []
          },
          "execution_count": 12
        }
      ]
    },
    {
      "cell_type": "code",
      "metadata": {
        "colab": {
          "base_uri": "https://localhost:8080/"
        },
        "id": "XYw9p8wgjjYu",
        "outputId": "63207105-454a-446c-8fa2-99af718be9a8"
      },
      "source": [
        "pow(2,3)"
      ],
      "execution_count": 1,
      "outputs": [
        {
          "output_type": "execute_result",
          "data": {
            "text/plain": [
              "8"
            ]
          },
          "metadata": {
            "tags": []
          },
          "execution_count": 1
        }
      ]
    },
    {
      "cell_type": "code",
      "metadata": {
        "id": "I2aGfoISaW5Z"
      },
      "source": [
        ""
      ],
      "execution_count": null,
      "outputs": []
    }
  ]
}